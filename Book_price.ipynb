{
  "nbformat": 4,
  "nbformat_minor": 0,
  "metadata": {
    "colab": {
      "name": "Book price.ipynb",
      "provenance": []
    },
    "kernelspec": {
      "name": "python3",
      "display_name": "Python 3"
    },
    "accelerator": "TPU"
  },
  "cells": [
    {
      "cell_type": "code",
      "metadata": {
        "id": "4F4X3BS6dbOQ",
        "colab_type": "code",
        "colab": {
          "base_uri": "https://localhost:8080/",
          "height": 68
        },
        "outputId": "46e3da6c-3af2-4450-cb23-f0c0162a0208"
      },
      "source": [
        "import nltk\n",
        "nltk.download('stopwords')"
      ],
      "execution_count": 4,
      "outputs": [
        {
          "output_type": "stream",
          "text": [
            "[nltk_data] Downloading package stopwords to /root/nltk_data...\n",
            "[nltk_data]   Package stopwords is already up-to-date!\n"
          ],
          "name": "stdout"
        },
        {
          "output_type": "execute_result",
          "data": {
            "text/plain": [
              "True"
            ]
          },
          "metadata": {
            "tags": []
          },
          "execution_count": 4
        }
      ]
    },
    {
      "cell_type": "code",
      "metadata": {
        "id": "iCv6BiKpddZ8",
        "colab_type": "code",
        "colab": {}
      },
      "source": [
        "import re\n",
        "import nltk\n",
        "import seaborn as sns\n",
        "import pandas as pd\n",
        "import numpy as np\n",
        "import matplotlib.pyplot as plt\n",
        "import warnings\n",
        "warnings.filterwarnings('ignore')\n",
        "\n",
        "from nltk.corpus import stopwords\n",
        "stopwords = stopwords.words('english')"
      ],
      "execution_count": 0,
      "outputs": []
    },
    {
      "cell_type": "code",
      "metadata": {
        "id": "R3yexWdSdtMF",
        "colab_type": "code",
        "colab": {}
      },
      "source": [
        "train = pd.read_excel('Data_Train.xlsx')\n",
        "test = pd.read_excel('Data_Test.xlsx')"
      ],
      "execution_count": 0,
      "outputs": []
    },
    {
      "cell_type": "code",
      "metadata": {
        "id": "0E2OQRdSd_K6",
        "colab_type": "code",
        "colab": {
          "base_uri": "https://localhost:8080/",
          "height": 34
        },
        "outputId": "d08107a1-2f91-4ba4-90f5-090ea28ab9eb"
      },
      "source": [
        "train.shape, test.shape"
      ],
      "execution_count": 7,
      "outputs": [
        {
          "output_type": "execute_result",
          "data": {
            "text/plain": [
              "((6237, 9), (1560, 8))"
            ]
          },
          "metadata": {
            "tags": []
          },
          "execution_count": 7
        }
      ]
    },
    {
      "cell_type": "code",
      "metadata": {
        "id": "77xT-tjOeByJ",
        "colab_type": "code",
        "colab": {
          "base_uri": "https://localhost:8080/",
          "height": 34
        },
        "outputId": "f041453d-3e13-4cff-cd1b-d4c9bdb97ce9"
      },
      "source": [
        "train.duplicated().sum(), test.duplicated().sum()"
      ],
      "execution_count": 8,
      "outputs": [
        {
          "output_type": "execute_result",
          "data": {
            "text/plain": [
              "(0, 8)"
            ]
          },
          "metadata": {
            "tags": []
          },
          "execution_count": 8
        }
      ]
    },
    {
      "cell_type": "code",
      "metadata": {
        "id": "qp5JjKXveEn2",
        "colab_type": "code",
        "colab": {
          "base_uri": "https://localhost:8080/",
          "height": 289
        },
        "outputId": "aa0550e4-8aba-4a3d-c909-e19e8d2d93ad"
      },
      "source": [
        "train.head()"
      ],
      "execution_count": 9,
      "outputs": [
        {
          "output_type": "execute_result",
          "data": {
            "text/html": [
              "<div>\n",
              "<style scoped>\n",
              "    .dataframe tbody tr th:only-of-type {\n",
              "        vertical-align: middle;\n",
              "    }\n",
              "\n",
              "    .dataframe tbody tr th {\n",
              "        vertical-align: top;\n",
              "    }\n",
              "\n",
              "    .dataframe thead th {\n",
              "        text-align: right;\n",
              "    }\n",
              "</style>\n",
              "<table border=\"1\" class=\"dataframe\">\n",
              "  <thead>\n",
              "    <tr style=\"text-align: right;\">\n",
              "      <th></th>\n",
              "      <th>Title</th>\n",
              "      <th>Author</th>\n",
              "      <th>Edition</th>\n",
              "      <th>Reviews</th>\n",
              "      <th>Ratings</th>\n",
              "      <th>Synopsis</th>\n",
              "      <th>Genre</th>\n",
              "      <th>BookCategory</th>\n",
              "      <th>Price</th>\n",
              "    </tr>\n",
              "  </thead>\n",
              "  <tbody>\n",
              "    <tr>\n",
              "      <th>0</th>\n",
              "      <td>The Prisoner's Gold (The Hunters 3)</td>\n",
              "      <td>Chris Kuzneski</td>\n",
              "      <td>Paperback,– 10 Mar 2016</td>\n",
              "      <td>4.0 out of 5 stars</td>\n",
              "      <td>8 customer reviews</td>\n",
              "      <td>THE HUNTERS return in their third brilliant no...</td>\n",
              "      <td>Action &amp; Adventure (Books)</td>\n",
              "      <td>Action &amp; Adventure</td>\n",
              "      <td>220.00</td>\n",
              "    </tr>\n",
              "    <tr>\n",
              "      <th>1</th>\n",
              "      <td>Guru Dutt: A Tragedy in Three Acts</td>\n",
              "      <td>Arun Khopkar</td>\n",
              "      <td>Paperback,– 7 Nov 2012</td>\n",
              "      <td>3.9 out of 5 stars</td>\n",
              "      <td>14 customer reviews</td>\n",
              "      <td>A layered portrait of a troubled genius for wh...</td>\n",
              "      <td>Cinema &amp; Broadcast (Books)</td>\n",
              "      <td>Biographies, Diaries &amp; True Accounts</td>\n",
              "      <td>202.93</td>\n",
              "    </tr>\n",
              "    <tr>\n",
              "      <th>2</th>\n",
              "      <td>Leviathan (Penguin Classics)</td>\n",
              "      <td>Thomas Hobbes</td>\n",
              "      <td>Paperback,– 25 Feb 1982</td>\n",
              "      <td>4.8 out of 5 stars</td>\n",
              "      <td>6 customer reviews</td>\n",
              "      <td>\"During the time men live without a common Pow...</td>\n",
              "      <td>International Relations</td>\n",
              "      <td>Humour</td>\n",
              "      <td>299.00</td>\n",
              "    </tr>\n",
              "    <tr>\n",
              "      <th>3</th>\n",
              "      <td>A Pocket Full of Rye (Miss Marple)</td>\n",
              "      <td>Agatha Christie</td>\n",
              "      <td>Paperback,– 5 Oct 2017</td>\n",
              "      <td>4.1 out of 5 stars</td>\n",
              "      <td>13 customer reviews</td>\n",
              "      <td>A handful of grain is found in the pocket of a...</td>\n",
              "      <td>Contemporary Fiction (Books)</td>\n",
              "      <td>Crime, Thriller &amp; Mystery</td>\n",
              "      <td>180.00</td>\n",
              "    </tr>\n",
              "    <tr>\n",
              "      <th>4</th>\n",
              "      <td>LIFE 70 Years of Extraordinary Photography</td>\n",
              "      <td>Editors of Life</td>\n",
              "      <td>Hardcover,– 10 Oct 2006</td>\n",
              "      <td>5.0 out of 5 stars</td>\n",
              "      <td>1 customer review</td>\n",
              "      <td>For seven decades, \"Life\" has been thrilling t...</td>\n",
              "      <td>Photography Textbooks</td>\n",
              "      <td>Arts, Film &amp; Photography</td>\n",
              "      <td>965.62</td>\n",
              "    </tr>\n",
              "  </tbody>\n",
              "</table>\n",
              "</div>"
            ],
            "text/plain": [
              "                                        Title  ...   Price\n",
              "0         The Prisoner's Gold (The Hunters 3)  ...  220.00\n",
              "1          Guru Dutt: A Tragedy in Three Acts  ...  202.93\n",
              "2                Leviathan (Penguin Classics)  ...  299.00\n",
              "3          A Pocket Full of Rye (Miss Marple)  ...  180.00\n",
              "4  LIFE 70 Years of Extraordinary Photography  ...  965.62\n",
              "\n",
              "[5 rows x 9 columns]"
            ]
          },
          "metadata": {
            "tags": []
          },
          "execution_count": 9
        }
      ]
    },
    {
      "cell_type": "code",
      "metadata": {
        "id": "rmu8NW1veGqf",
        "colab_type": "code",
        "colab": {
          "base_uri": "https://localhost:8080/",
          "height": 255
        },
        "outputId": "c4718b32-d036-416a-beb1-884baa2a1943"
      },
      "source": [
        "train.info()"
      ],
      "execution_count": 10,
      "outputs": [
        {
          "output_type": "stream",
          "text": [
            "<class 'pandas.core.frame.DataFrame'>\n",
            "RangeIndex: 6237 entries, 0 to 6236\n",
            "Data columns (total 9 columns):\n",
            "Title           6237 non-null object\n",
            "Author          6237 non-null object\n",
            "Edition         6237 non-null object\n",
            "Reviews         6237 non-null object\n",
            "Ratings         6237 non-null object\n",
            "Synopsis        6237 non-null object\n",
            "Genre           6237 non-null object\n",
            "BookCategory    6237 non-null object\n",
            "Price           6237 non-null float64\n",
            "dtypes: float64(1), object(8)\n",
            "memory usage: 438.7+ KB\n"
          ],
          "name": "stdout"
        }
      ]
    },
    {
      "cell_type": "code",
      "metadata": {
        "id": "C2SqnM8heI3_",
        "colab_type": "code",
        "colab": {
          "base_uri": "https://localhost:8080/",
          "height": 187
        },
        "outputId": "65dd7f0d-c654-430c-933e-0fa0cf37bb23"
      },
      "source": [
        "train.nunique()"
      ],
      "execution_count": 11,
      "outputs": [
        {
          "output_type": "execute_result",
          "data": {
            "text/plain": [
              "Title           5568\n",
              "Author          3679\n",
              "Edition         3370\n",
              "Reviews           36\n",
              "Ratings          342\n",
              "Synopsis        5549\n",
              "Genre            345\n",
              "BookCategory      11\n",
              "Price           1614\n",
              "dtype: int64"
            ]
          },
          "metadata": {
            "tags": []
          },
          "execution_count": 11
        }
      ]
    },
    {
      "cell_type": "code",
      "metadata": {
        "id": "xEA7yOZleK_A",
        "colab_type": "code",
        "colab": {
          "base_uri": "https://localhost:8080/",
          "height": 405
        },
        "outputId": "47533f55-1810-4e37-d112-bf241c29ac74"
      },
      "source": [
        "plt.figure(figsize=(10,6))\n",
        "sns.distplot(np.log1p(train['Price']))"
      ],
      "execution_count": 12,
      "outputs": [
        {
          "output_type": "execute_result",
          "data": {
            "text/plain": [
              "<matplotlib.axes._subplots.AxesSubplot at 0x7fac1e959128>"
            ]
          },
          "metadata": {
            "tags": []
          },
          "execution_count": 12
        },
        {
          "output_type": "display_data",
          "data": {
            "image/png": "[encoded data removed]",
            "text/plain": [
              "<Figure size 720x432 with 1 Axes>"
            ]
          },
          "metadata": {
            "tags": []
          }
        }
      ]
    },
    {
      "cell_type": "code",
      "metadata": {
        "id": "vJgKSQhJeNFC",
        "colab_type": "code",
        "colab": {}
      },
      "source": [
        "train = train[train['Price'] < 10000].reset_index(drop=True)"
      ],
      "execution_count": 0,
      "outputs": []
    },
    {
      "cell_type": "code",
      "metadata": {
        "id": "y-saDSTweQtv",
        "colab_type": "code",
        "colab": {
          "base_uri": "https://localhost:8080/",
          "height": 34
        },
        "outputId": "c4c9a2eb-c758-4d6f-d8fd-4d2632715dae"
      },
      "source": [
        "df = train.append(test,ignore_index=True)\n",
        "df.shape"
      ],
      "execution_count": 14,
      "outputs": [
        {
          "output_type": "execute_result",
          "data": {
            "text/plain": [
              "(7794, 9)"
            ]
          },
          "metadata": {
            "tags": []
          },
          "execution_count": 14
        }
      ]
    },
    {
      "cell_type": "code",
      "metadata": {
        "id": "uWuLVaz6eTHp",
        "colab_type": "code",
        "colab": {}
      },
      "source": [
        "df.columns = ['Author', 'BookCategory', 'Edition', 'Genre', 'Price', 'Reviews', 'Ratings', 'Synopsis', 'Title']"
      ],
      "execution_count": 0,
      "outputs": []
    },
    {
      "cell_type": "code",
      "metadata": {
        "id": "GbcltO2ceZCs",
        "colab_type": "code",
        "colab": {
          "base_uri": "https://localhost:8080/",
          "height": 34
        },
        "outputId": "b638d46d-f992-44a7-8204-7bbfaab171f0"
      },
      "source": [
        "df.shape"
      ],
      "execution_count": 16,
      "outputs": [
        {
          "output_type": "execute_result",
          "data": {
            "text/plain": [
              "(7794, 9)"
            ]
          },
          "metadata": {
            "tags": []
          },
          "execution_count": 16
        }
      ]
    },
    {
      "cell_type": "code",
      "metadata": {
        "id": "-KEk2XaHebjc",
        "colab_type": "code",
        "colab": {
          "base_uri": "https://localhost:8080/",
          "height": 145
        },
        "outputId": "48caa0ec-1972-4957-abf2-5d80bbf5ba1f"
      },
      "source": [
        "df.head(2)"
      ],
      "execution_count": 17,
      "outputs": [
        {
          "output_type": "execute_result",
          "data": {
            "text/html": [
              "<div>\n",
              "<style scoped>\n",
              "    .dataframe tbody tr th:only-of-type {\n",
              "        vertical-align: middle;\n",
              "    }\n",
              "\n",
              "    .dataframe tbody tr th {\n",
              "        vertical-align: top;\n",
              "    }\n",
              "\n",
              "    .dataframe thead th {\n",
              "        text-align: right;\n",
              "    }\n",
              "</style>\n",
              "<table border=\"1\" class=\"dataframe\">\n",
              "  <thead>\n",
              "    <tr style=\"text-align: right;\">\n",
              "      <th></th>\n",
              "      <th>Author</th>\n",
              "      <th>BookCategory</th>\n",
              "      <th>Edition</th>\n",
              "      <th>Genre</th>\n",
              "      <th>Price</th>\n",
              "      <th>Reviews</th>\n",
              "      <th>Ratings</th>\n",
              "      <th>Synopsis</th>\n",
              "      <th>Title</th>\n",
              "    </tr>\n",
              "  </thead>\n",
              "  <tbody>\n",
              "    <tr>\n",
              "      <th>0</th>\n",
              "      <td>Chris Kuzneski</td>\n",
              "      <td>Action &amp; Adventure</td>\n",
              "      <td>Paperback,– 10 Mar 2016</td>\n",
              "      <td>Action &amp; Adventure (Books)</td>\n",
              "      <td>220.00</td>\n",
              "      <td>8 customer reviews</td>\n",
              "      <td>4.0 out of 5 stars</td>\n",
              "      <td>THE HUNTERS return in their third brilliant no...</td>\n",
              "      <td>The Prisoner's Gold (The Hunters 3)</td>\n",
              "    </tr>\n",
              "    <tr>\n",
              "      <th>1</th>\n",
              "      <td>Arun Khopkar</td>\n",
              "      <td>Biographies, Diaries &amp; True Accounts</td>\n",
              "      <td>Paperback,– 7 Nov 2012</td>\n",
              "      <td>Cinema &amp; Broadcast (Books)</td>\n",
              "      <td>202.93</td>\n",
              "      <td>14 customer reviews</td>\n",
              "      <td>3.9 out of 5 stars</td>\n",
              "      <td>A layered portrait of a troubled genius for wh...</td>\n",
              "      <td>Guru Dutt: A Tragedy in Three Acts</td>\n",
              "    </tr>\n",
              "  </tbody>\n",
              "</table>\n",
              "</div>"
            ],
            "text/plain": [
              "           Author  ...                                Title\n",
              "0  Chris Kuzneski  ...  The Prisoner's Gold (The Hunters 3)\n",
              "1    Arun Khopkar  ...   Guru Dutt: A Tragedy in Three Acts\n",
              "\n",
              "[2 rows x 9 columns]"
            ]
          },
          "metadata": {
            "tags": []
          },
          "execution_count": 17
        }
      ]
    },
    {
      "cell_type": "code",
      "metadata": {
        "id": "DHyKquJMedi-",
        "colab_type": "code",
        "colab": {}
      },
      "source": [
        "df['Title_1'] = df['Title'].str.extract(r\"\\((.*?)\\)\", expand=False) \n",
        "df['Title_1'] = df['Title_1'].fillna('missingTitle') \n",
        "df['Genre'] = df['Genre'].str.replace(r\"\\(.*\\)\",\"\")\n",
        "df['Reviews'] = df['Reviews'].str.replace(',','')\n",
        "df['Reviews'] = df['Reviews'].str.split().str.get(0).astype(float)\n",
        "df['Ratings'] = df['Ratings'].str.split().str.get(0).astype(float)\n",
        "df['BookCategory_1'] = df['BookCategory'].str.split(',').str[0]\n",
        "df['BookCategory_2'] = df['BookCategory'].str.split(',').str[1]\n",
        "df['BookCategory_2'] = df['BookCategory_2'].fillna('missingBookCategory')"
      ],
      "execution_count": 0,
      "outputs": []
    },
    {
      "cell_type": "code",
      "metadata": {
        "id": "-VsUSLK-efz9",
        "colab_type": "code",
        "colab": {}
      },
      "source": [
        "df['Edition_1'] = df['Edition'].str.split(',').str[0]\n",
        "df['Edition_2'] = df['Edition'].str.split(',').str[1]\n",
        "df['Edition_2'] = df['Edition_2'].str.replace('– ','')\n",
        "df['Edition_year'] = pd.to_datetime(df['Edition_2'], errors='coerce').dt.year\n",
        "df['Edition_month'] = pd.to_datetime(df['Edition_2'], errors='coerce').dt.month\n",
        "df['Edition_date'] = pd.to_datetime(df['Edition_2'], errors='coerce').dt.day"
      ],
      "execution_count": 0,
      "outputs": []
    },
    {
      "cell_type": "code",
      "metadata": {
        "id": "4ngYpKcIeiRu",
        "colab_type": "code",
        "colab": {
          "base_uri": "https://localhost:8080/",
          "height": 323
        },
        "outputId": "3ecc1a22-157b-4801-96ba-1f50ce8f3d86"
      },
      "source": [
        "df.isnull().sum()"
      ],
      "execution_count": 20,
      "outputs": [
        {
          "output_type": "execute_result",
          "data": {
            "text/plain": [
              "Author               0\n",
              "BookCategory         0\n",
              "Edition              0\n",
              "Genre                0\n",
              "Price             1560\n",
              "Reviews              0\n",
              "Ratings              0\n",
              "Synopsis             0\n",
              "Title                0\n",
              "Title_1              0\n",
              "BookCategory_1       0\n",
              "BookCategory_2       0\n",
              "Edition_1            0\n",
              "Edition_2            0\n",
              "Edition_year       992\n",
              "Edition_month      992\n",
              "Edition_date       992\n",
              "dtype: int64"
            ]
          },
          "metadata": {
            "tags": []
          },
          "execution_count": 20
        }
      ]
    },
    {
      "cell_type": "code",
      "metadata": {
        "id": "A8yWDfoeemL9",
        "colab_type": "code",
        "colab": {
          "base_uri": "https://localhost:8080/",
          "height": 284
        },
        "outputId": "80c389fc-ebd8-4d9f-88bd-e40fe1f3d600"
      },
      "source": [
        "df.head(2)"
      ],
      "execution_count": 21,
      "outputs": [
        {
          "output_type": "execute_result",
          "data": {
            "text/html": [
              "<div>\n",
              "<style scoped>\n",
              "    .dataframe tbody tr th:only-of-type {\n",
              "        vertical-align: middle;\n",
              "    }\n",
              "\n",
              "    .dataframe tbody tr th {\n",
              "        vertical-align: top;\n",
              "    }\n",
              "\n",
              "    .dataframe thead th {\n",
              "        text-align: right;\n",
              "    }\n",
              "</style>\n",
              "<table border=\"1\" class=\"dataframe\">\n",
              "  <thead>\n",
              "    <tr style=\"text-align: right;\">\n",
              "      <th></th>\n",
              "      <th>Author</th>\n",
              "      <th>BookCategory</th>\n",
              "      <th>Edition</th>\n",
              "      <th>Genre</th>\n",
              "      <th>Price</th>\n",
              "      <th>Reviews</th>\n",
              "      <th>Ratings</th>\n",
              "      <th>Synopsis</th>\n",
              "      <th>Title</th>\n",
              "      <th>Title_1</th>\n",
              "      <th>BookCategory_1</th>\n",
              "      <th>BookCategory_2</th>\n",
              "      <th>Edition_1</th>\n",
              "      <th>Edition_2</th>\n",
              "      <th>Edition_year</th>\n",
              "      <th>Edition_month</th>\n",
              "      <th>Edition_date</th>\n",
              "    </tr>\n",
              "  </thead>\n",
              "  <tbody>\n",
              "    <tr>\n",
              "      <th>0</th>\n",
              "      <td>Chris Kuzneski</td>\n",
              "      <td>Action &amp; Adventure</td>\n",
              "      <td>Paperback,– 10 Mar 2016</td>\n",
              "      <td>Action &amp; Adventure</td>\n",
              "      <td>220.00</td>\n",
              "      <td>8.0</td>\n",
              "      <td>4.0</td>\n",
              "      <td>THE HUNTERS return in their third brilliant no...</td>\n",
              "      <td>The Prisoner's Gold (The Hunters 3)</td>\n",
              "      <td>The Hunters 3</td>\n",
              "      <td>Action &amp; Adventure</td>\n",
              "      <td>missingBookCategory</td>\n",
              "      <td>Paperback</td>\n",
              "      <td>10 Mar 2016</td>\n",
              "      <td>2016.0</td>\n",
              "      <td>3.0</td>\n",
              "      <td>10.0</td>\n",
              "    </tr>\n",
              "    <tr>\n",
              "      <th>1</th>\n",
              "      <td>Arun Khopkar</td>\n",
              "      <td>Biographies, Diaries &amp; True Accounts</td>\n",
              "      <td>Paperback,– 7 Nov 2012</td>\n",
              "      <td>Cinema &amp; Broadcast</td>\n",
              "      <td>202.93</td>\n",
              "      <td>14.0</td>\n",
              "      <td>3.9</td>\n",
              "      <td>A layered portrait of a troubled genius for wh...</td>\n",
              "      <td>Guru Dutt: A Tragedy in Three Acts</td>\n",
              "      <td>missingTitle</td>\n",
              "      <td>Biographies</td>\n",
              "      <td>Diaries &amp; True Accounts</td>\n",
              "      <td>Paperback</td>\n",
              "      <td>7 Nov 2012</td>\n",
              "      <td>2012.0</td>\n",
              "      <td>11.0</td>\n",
              "      <td>7.0</td>\n",
              "    </tr>\n",
              "  </tbody>\n",
              "</table>\n",
              "</div>"
            ],
            "text/plain": [
              "           Author  ... Edition_date\n",
              "0  Chris Kuzneski  ...         10.0\n",
              "1    Arun Khopkar  ...          7.0\n",
              "\n",
              "[2 rows x 17 columns]"
            ]
          },
          "metadata": {
            "tags": []
          },
          "execution_count": 21
        }
      ]
    },
    {
      "cell_type": "code",
      "metadata": {
        "id": "Pap3RiGheodk",
        "colab_type": "code",
        "colab": {}
      },
      "source": [
        "agg_func = {\n",
        "    'Reviews': ['mean','median','min','max','sum'],\n",
        "    'Ratings': ['mean','median','min','max','sum']\n",
        "}\n",
        "agg_BookCategory_1 = df.groupby('BookCategory_1').agg(agg_func)\n",
        "agg_BookCategory_1.columns = [ 'BookCategory_1_' + ('_'.join(col).strip()) for col in agg_BookCategory_1.columns.values]\n",
        "agg_BookCategory_1.reset_index(inplace=True)\n",
        "df = df.merge(agg_BookCategory_1, on=['BookCategory_1'], how='left')"
      ],
      "execution_count": 0,
      "outputs": []
    },
    {
      "cell_type": "code",
      "metadata": {
        "id": "8bK5F03Seq8u",
        "colab_type": "code",
        "colab": {}
      },
      "source": [
        "agg_func = {\n",
        "    'Reviews': ['mean','median','min','max','sum'],\n",
        "    'Ratings': ['mean','median','min','max','sum']\n",
        "    \n",
        "}\n",
        "agg_BookCategory_2 = df.groupby('BookCategory_2').agg(agg_func)\n",
        "agg_BookCategory_2.columns = [ 'BookCategory_2_' + ('_'.join(col).strip()) for col in agg_BookCategory_2.columns.values]\n",
        "agg_BookCategory_2.reset_index(inplace=True)\n",
        "df = df.merge(agg_BookCategory_2, on=['BookCategory_2'], how='left')"
      ],
      "execution_count": 0,
      "outputs": []
    },
    {
      "cell_type": "code",
      "metadata": {
        "id": "xNS3A5EfetUh",
        "colab_type": "code",
        "colab": {}
      },
      "source": [
        "agg_func = {\n",
        "    'Reviews': ['mean','median','min','max','sum'],\n",
        "    'Ratings': ['mean','median','min','max','sum']\n",
        "}\n",
        "agg_Author = df.groupby('Author').agg(agg_func)\n",
        "agg_Author.columns = [ 'Author_' + ('_'.join(col).strip()) for col in agg_Author.columns.values]\n",
        "agg_Author.reset_index(inplace=True)\n",
        "df = df.merge(agg_Author, on=['Author'], how='left')"
      ],
      "execution_count": 0,
      "outputs": []
    },
    {
      "cell_type": "code",
      "metadata": {
        "id": "JpYhXKeWevfT",
        "colab_type": "code",
        "colab": {}
      },
      "source": [
        "agg_func = {\n",
        "    'Reviews': ['mean','median','min','max','sum'],\n",
        "    'Ratings': ['mean','median','min','max','sum']\n",
        "}\n",
        "agg_Genre = df.groupby('Genre').agg(agg_func)\n",
        "agg_Genre.columns = [ 'Genre_' + ('_'.join(col).strip()) for col in agg_Genre.columns.values]\n",
        "agg_Genre.reset_index(inplace=True)\n",
        "df = df.merge(agg_Genre, on=['Genre'], how='left')"
      ],
      "execution_count": 0,
      "outputs": []
    },
    {
      "cell_type": "code",
      "metadata": {
        "id": "iaDYiKF4eyDa",
        "colab_type": "code",
        "colab": {}
      },
      "source": [
        "agg_func = {\n",
        "    'Reviews': ['mean','median','min','max','sum'],\n",
        "    'Ratings': ['mean','median','min','max','sum']\n",
        "}\n",
        "agg_Title = df.groupby('Title').agg(agg_func)\n",
        "agg_Title.columns = [ 'Title_' + ('_'.join(col).strip()) for col in agg_Title.columns.values]\n",
        "agg_Title.reset_index(inplace=True)\n",
        "df = df.merge(agg_Title, on=['Title'], how='left')"
      ],
      "execution_count": 0,
      "outputs": []
    },
    {
      "cell_type": "code",
      "metadata": {
        "id": "fxcGGkZDe0Xg",
        "colab_type": "code",
        "colab": {}
      },
      "source": [
        "calc = df.groupby(['Title'], axis=0).agg({'Title':[('op1', 'count')]}).reset_index() \n",
        "calc.columns = ['Title','Title Count']\n",
        "df = df.merge(calc, on=['Title'], how='left')\n",
        "\n",
        "calc = df.groupby(['BookCategory_1'], axis=0).agg({'BookCategory_1':[('op1', 'count')]}).reset_index() \n",
        "calc.columns = ['BookCategory_1','BookCategory_1 Count']\n",
        "df = df.merge(calc, on=['BookCategory_1'], how='left')\n",
        "\n",
        "calc = df.groupby(['Edition_year'], axis=0).agg({'Edition_year':[('op1', 'count')]}).reset_index() \n",
        "calc.columns = ['Edition_year','Edition_year Count']\n",
        "df = df.merge(calc, on=['Edition_year'], how='left')\n",
        "\n",
        "calc = df.groupby(['Edition_month'], axis=0).agg({'Edition_month':[('op1', 'count')]}).reset_index() \n",
        "calc.columns = ['Edition_month','Edition_month Count']\n",
        "df = df.merge(calc, on=['Edition_month'], how='left')\n",
        "\n",
        "calc = df.groupby(['Edition_date'], axis=0).agg({'Edition_date':[('op1', 'count')]}).reset_index() \n",
        "calc.columns = ['Edition_date','Edition_date Count']\n",
        "df = df.merge(calc, on=['Edition_date'], how='left')"
      ],
      "execution_count": 0,
      "outputs": []
    },
    {
      "cell_type": "code",
      "metadata": {
        "id": "k0ibtjgXe2m8",
        "colab_type": "code",
        "colab": {}
      },
      "source": [
        "df['Title_Synopsis'] = df['Title'] + ' ' + df['Synopsis'] + ' ' + df['Author']\n"
      ],
      "execution_count": 0,
      "outputs": []
    },
    {
      "cell_type": "code",
      "metadata": {
        "id": "WAInbd9Ye5Ap",
        "colab_type": "code",
        "colab": {}
      },
      "source": [
        "from nltk.stem.wordnet import WordNetLemmatizer\n",
        "lemma = WordNetLemmatizer()"
      ],
      "execution_count": 0,
      "outputs": []
    },
    {
      "cell_type": "code",
      "metadata": {
        "id": "YRiU1KMoe7Ev",
        "colab_type": "code",
        "colab": {
          "base_uri": "https://localhost:8080/",
          "height": 68
        },
        "outputId": "69b5f92c-c500-4e54-b9ab-627dc4edc9f8"
      },
      "source": [
        "import nltk\n",
        "nltk.download('punkt')"
      ],
      "execution_count": 30,
      "outputs": [
        {
          "output_type": "stream",
          "text": [
            "[nltk_data] Downloading package punkt to /root/nltk_data...\n",
            "[nltk_data]   Unzipping tokenizers/punkt.zip.\n"
          ],
          "name": "stdout"
        },
        {
          "output_type": "execute_result",
          "data": {
            "text/plain": [
              "True"
            ]
          },
          "metadata": {
            "tags": []
          },
          "execution_count": 30
        }
      ]
    },
    {
      "cell_type": "code",
      "metadata": {
        "id": "K5geDfOfe9FP",
        "colab_type": "code",
        "colab": {
          "base_uri": "https://localhost:8080/",
          "height": 68
        },
        "outputId": "db342430-db33-4fe3-b5e3-79d5275dd0cb"
      },
      "source": [
        "import nltk\n",
        "nltk.download('wordnet')"
      ],
      "execution_count": 31,
      "outputs": [
        {
          "output_type": "stream",
          "text": [
            "[nltk_data] Downloading package wordnet to /root/nltk_data...\n",
            "[nltk_data]   Unzipping corpora/wordnet.zip.\n"
          ],
          "name": "stdout"
        },
        {
          "output_type": "execute_result",
          "data": {
            "text/plain": [
              "True"
            ]
          },
          "metadata": {
            "tags": []
          },
          "execution_count": 31
        }
      ]
    },
    {
      "cell_type": "code",
      "metadata": {
        "id": "DOTus11te_bc",
        "colab_type": "code",
        "colab": {
          "base_uri": "https://localhost:8080/",
          "height": 136
        },
        "outputId": "25d98dcf-0f2d-49a7-ad50-937311ffa9a9"
      },
      "source": [
        "# function for data cleaning and lemmatization\n",
        "def clean_reviews(review_text, logging=False):\n",
        "    counter = 1\n",
        "    clean_text = []\n",
        "    for texts in review_text:\n",
        "        if counter % 1000 == 0 and logging:\n",
        "            print(\"Processed %d records.\" % (counter))\n",
        "        counter += 1\n",
        "        texts = texts.lower()\n",
        "        texts = re.sub(r'www.[^ ]+', ' ', texts)\n",
        "        texts = re.sub(r'https?://[^ ]+', ' ', texts)\n",
        "        texts = re.sub(r'https://[^ ]+', ' ', texts)\n",
        "        texts = re.sub(r'[^a-z]', ' ', texts)\n",
        "        tokens = nltk.word_tokenize(texts)\n",
        "        tokens = [tok for tok in tokens if len(tok) > 2]\n",
        "        tokens = [lemma.lemmatize(token, pos='n') for token in tokens]\n",
        "        tokens = ' '.join(tokens)\n",
        "        clean_text.append(tokens)\n",
        "    return pd.Series(clean_text)\n",
        "\n",
        "clean_text = clean_reviews(df['Title_Synopsis'], logging=True)\n",
        "df['Title_Synopsis'] = clean_text"
      ],
      "execution_count": 32,
      "outputs": [
        {
          "output_type": "stream",
          "text": [
            "Processed 1000 records.\n",
            "Processed 2000 records.\n",
            "Processed 3000 records.\n",
            "Processed 4000 records.\n",
            "Processed 5000 records.\n",
            "Processed 6000 records.\n",
            "Processed 7000 records.\n"
          ],
          "name": "stdout"
        }
      ]
    },
    {
      "cell_type": "code",
      "metadata": {
        "id": "HS1hHO4EfBxG",
        "colab_type": "code",
        "colab": {
          "base_uri": "https://localhost:8080/",
          "height": 34
        },
        "outputId": "0ef034d5-b9f6-46bc-9948-7d14828ead99"
      },
      "source": [
        "from sklearn.feature_extraction.text import TfidfVectorizer\n",
        "tf1 = TfidfVectorizer(ngram_range=(1, 3), min_df=5, token_pattern=r'\\w{3,}', max_features=15000)\n",
        "df_title = tf1.fit_transform(df['Title_Synopsis'])\n",
        "df_title = pd.DataFrame(data=df_title.toarray(), columns=tf1.get_feature_names())\n",
        "df_title.shape"
      ],
      "execution_count": 33,
      "outputs": [
        {
          "output_type": "execute_result",
          "data": {
            "text/plain": [
              "(7794, 15000)"
            ]
          },
          "metadata": {
            "tags": []
          },
          "execution_count": 33
        }
      ]
    },
    {
      "cell_type": "code",
      "metadata": {
        "id": "Eo9dVZLQfEkZ",
        "colab_type": "code",
        "colab": {
          "base_uri": "https://localhost:8080/",
          "height": 34
        },
        "outputId": "32533879-42d0-4d30-a105-3daee68d628c"
      },
      "source": [
        "df = pd.concat([df, df_title], axis=1) \n",
        "df.shape"
      ],
      "execution_count": 34,
      "outputs": [
        {
          "output_type": "execute_result",
          "data": {
            "text/plain": [
              "(7794, 15073)"
            ]
          },
          "metadata": {
            "tags": []
          },
          "execution_count": 34
        }
      ]
    },
    {
      "cell_type": "code",
      "metadata": {
        "id": "9CkU_nltfGpx",
        "colab_type": "code",
        "colab": {}
      },
      "source": [
        "for col in ['BookCategory_1', 'BookCategory_2', 'Edition_1', 'Edition_2', 'Genre', 'Title_1']:\n",
        "    df[col] = df[col].astype('category')"
      ],
      "execution_count": 0,
      "outputs": []
    },
    {
      "cell_type": "code",
      "metadata": {
        "id": "OPeNAIesfIqr",
        "colab_type": "code",
        "colab": {}
      },
      "source": [
        "df.drop(['Synopsis','Title','BookCategory','Edition','Title_Synopsis','Author'], axis=1, inplace=True)\n"
      ],
      "execution_count": 0,
      "outputs": []
    },
    {
      "cell_type": "code",
      "metadata": {
        "id": "7b4KT584fLOu",
        "colab_type": "code",
        "colab": {}
      },
      "source": [
        "train_df = df[df['Price'].isnull()!=True]\n",
        "test_df = df[df['Price'].isnull()==True]\n",
        "test_df.drop(['Price'], axis=1, inplace=True)"
      ],
      "execution_count": 0,
      "outputs": []
    },
    {
      "cell_type": "code",
      "metadata": {
        "id": "NM4cAtY_fNVH",
        "colab_type": "code",
        "colab": {
          "base_uri": "https://localhost:8080/",
          "height": 34
        },
        "outputId": "e8098110-4219-4fbb-df5c-e53ea254032a"
      },
      "source": [
        "train_df.shape, test_df.shape"
      ],
      "execution_count": 38,
      "outputs": [
        {
          "output_type": "execute_result",
          "data": {
            "text/plain": [
              "((6234, 15067), (1560, 15066))"
            ]
          },
          "metadata": {
            "tags": []
          },
          "execution_count": 38
        }
      ]
    },
    {
      "cell_type": "code",
      "metadata": {
        "id": "fUjaKQr5fPLQ",
        "colab_type": "code",
        "colab": {}
      },
      "source": [
        "train_df['Price'] = np.log1p(train_df['Price'])"
      ],
      "execution_count": 0,
      "outputs": []
    },
    {
      "cell_type": "code",
      "metadata": {
        "id": "MV1c_EFafRYA",
        "colab_type": "code",
        "colab": {
          "base_uri": "https://localhost:8080/",
          "height": 228
        },
        "outputId": "b2c70ed0-760e-448d-9414-a910f357656a"
      },
      "source": [
        "train_df.head(2)"
      ],
      "execution_count": 40,
      "outputs": [
        {
          "output_type": "execute_result",
          "data": {
            "text/html": [
              "<div>\n",
              "<style scoped>\n",
              "    .dataframe tbody tr th:only-of-type {\n",
              "        vertical-align: middle;\n",
              "    }\n",
              "\n",
              "    .dataframe tbody tr th {\n",
              "        vertical-align: top;\n",
              "    }\n",
              "\n",
              "    .dataframe thead th {\n",
              "        text-align: right;\n",
              "    }\n",
              "</style>\n",
              "<table border=\"1\" class=\"dataframe\">\n",
              "  <thead>\n",
              "    <tr style=\"text-align: right;\">\n",
              "      <th></th>\n",
              "      <th>Genre</th>\n",
              "      <th>Price</th>\n",
              "      <th>Reviews</th>\n",
              "      <th>Ratings</th>\n",
              "      <th>Title_1</th>\n",
              "      <th>BookCategory_1</th>\n",
              "      <th>BookCategory_2</th>\n",
              "      <th>Edition_1</th>\n",
              "      <th>Edition_2</th>\n",
              "      <th>Edition_year</th>\n",
              "      <th>Edition_month</th>\n",
              "      <th>Edition_date</th>\n",
              "      <th>BookCategory_1_Reviews_mean</th>\n",
              "      <th>BookCategory_1_Reviews_median</th>\n",
              "      <th>BookCategory_1_Reviews_min</th>\n",
              "      <th>BookCategory_1_Reviews_max</th>\n",
              "      <th>BookCategory_1_Reviews_sum</th>\n",
              "      <th>BookCategory_1_Ratings_mean</th>\n",
              "      <th>BookCategory_1_Ratings_median</th>\n",
              "      <th>BookCategory_1_Ratings_min</th>\n",
              "      <th>BookCategory_1_Ratings_max</th>\n",
              "      <th>BookCategory_1_Ratings_sum</th>\n",
              "      <th>BookCategory_2_Reviews_mean</th>\n",
              "      <th>BookCategory_2_Reviews_median</th>\n",
              "      <th>BookCategory_2_Reviews_min</th>\n",
              "      <th>BookCategory_2_Reviews_max</th>\n",
              "      <th>BookCategory_2_Reviews_sum</th>\n",
              "      <th>BookCategory_2_Ratings_mean</th>\n",
              "      <th>BookCategory_2_Ratings_median</th>\n",
              "      <th>BookCategory_2_Ratings_min</th>\n",
              "      <th>BookCategory_2_Ratings_max</th>\n",
              "      <th>BookCategory_2_Ratings_sum</th>\n",
              "      <th>Author_Reviews_mean</th>\n",
              "      <th>Author_Reviews_median</th>\n",
              "      <th>Author_Reviews_min</th>\n",
              "      <th>Author_Reviews_max</th>\n",
              "      <th>Author_Reviews_sum</th>\n",
              "      <th>Author_Ratings_mean</th>\n",
              "      <th>Author_Ratings_median</th>\n",
              "      <th>Author_Ratings_min</th>\n",
              "      <th>...</th>\n",
              "      <th>your goal</th>\n",
              "      <th>your guide</th>\n",
              "      <th>your hand</th>\n",
              "      <th>your heart</th>\n",
              "      <th>your home</th>\n",
              "      <th>your idea</th>\n",
              "      <th>your imagination</th>\n",
              "      <th>your kid</th>\n",
              "      <th>your knowledge</th>\n",
              "      <th>your life</th>\n",
              "      <th>your mind</th>\n",
              "      <th>your organization</th>\n",
              "      <th>your own</th>\n",
              "      <th>your power</th>\n",
              "      <th>your seat</th>\n",
              "      <th>your skill</th>\n",
              "      <th>your team</th>\n",
              "      <th>your time</th>\n",
              "      <th>your way</th>\n",
              "      <th>your work</th>\n",
              "      <th>yours</th>\n",
              "      <th>yourself</th>\n",
              "      <th>yourself and</th>\n",
              "      <th>yourself the</th>\n",
              "      <th>yourself with</th>\n",
              "      <th>yourself with ladybird</th>\n",
              "      <th>yousafzai</th>\n",
              "      <th>youth</th>\n",
              "      <th>youth and</th>\n",
              "      <th>youthful</th>\n",
              "      <th>youtube</th>\n",
              "      <th>yuvraj</th>\n",
              "      <th>zen</th>\n",
              "      <th>zen pencil</th>\n",
              "      <th>zero</th>\n",
              "      <th>zlatan</th>\n",
              "      <th>zoe</th>\n",
              "      <th>zombie</th>\n",
              "      <th>zone</th>\n",
              "      <th>zoo</th>\n",
              "    </tr>\n",
              "  </thead>\n",
              "  <tbody>\n",
              "    <tr>\n",
              "      <th>0</th>\n",
              "      <td>Action &amp; Adventure</td>\n",
              "      <td>5.398163</td>\n",
              "      <td>8.0</td>\n",
              "      <td>4.0</td>\n",
              "      <td>The Hunters 3</td>\n",
              "      <td>Action &amp; Adventure</td>\n",
              "      <td>missingBookCategory</td>\n",
              "      <td>Paperback</td>\n",
              "      <td>10 Mar 2016</td>\n",
              "      <td>2016.0</td>\n",
              "      <td>3.0</td>\n",
              "      <td>10.0</td>\n",
              "      <td>38.594595</td>\n",
              "      <td>6.0</td>\n",
              "      <td>1.0</td>\n",
              "      <td>4787.0</td>\n",
              "      <td>39984.0</td>\n",
              "      <td>4.295560</td>\n",
              "      <td>4.4</td>\n",
              "      <td>1.0</td>\n",
              "      <td>5.0</td>\n",
              "      <td>4450.2</td>\n",
              "      <td>30.664186</td>\n",
              "      <td>5.0</td>\n",
              "      <td>1.0</td>\n",
              "      <td>4787.0</td>\n",
              "      <td>127747.0</td>\n",
              "      <td>4.336918</td>\n",
              "      <td>4.5</td>\n",
              "      <td>1.0</td>\n",
              "      <td>5.0</td>\n",
              "      <td>18067.6</td>\n",
              "      <td>5.25</td>\n",
              "      <td>5.0</td>\n",
              "      <td>3.0</td>\n",
              "      <td>8.0</td>\n",
              "      <td>21.0</td>\n",
              "      <td>3.975</td>\n",
              "      <td>4.05</td>\n",
              "      <td>3.2</td>\n",
              "      <td>...</td>\n",
              "      <td>0.0</td>\n",
              "      <td>0.0</td>\n",
              "      <td>0.0</td>\n",
              "      <td>0.0</td>\n",
              "      <td>0.0</td>\n",
              "      <td>0.0</td>\n",
              "      <td>0.0</td>\n",
              "      <td>0.0</td>\n",
              "      <td>0.0</td>\n",
              "      <td>0.0</td>\n",
              "      <td>0.0</td>\n",
              "      <td>0.0</td>\n",
              "      <td>0.0</td>\n",
              "      <td>0.0</td>\n",
              "      <td>0.0</td>\n",
              "      <td>0.0</td>\n",
              "      <td>0.0</td>\n",
              "      <td>0.0</td>\n",
              "      <td>0.0</td>\n",
              "      <td>0.0</td>\n",
              "      <td>0.0</td>\n",
              "      <td>0.0</td>\n",
              "      <td>0.0</td>\n",
              "      <td>0.0</td>\n",
              "      <td>0.0</td>\n",
              "      <td>0.0</td>\n",
              "      <td>0.0</td>\n",
              "      <td>0.0</td>\n",
              "      <td>0.0</td>\n",
              "      <td>0.0</td>\n",
              "      <td>0.0</td>\n",
              "      <td>0.0</td>\n",
              "      <td>0.0</td>\n",
              "      <td>0.0</td>\n",
              "      <td>0.0</td>\n",
              "      <td>0.0</td>\n",
              "      <td>0.0</td>\n",
              "      <td>0.0</td>\n",
              "      <td>0.0</td>\n",
              "      <td>0.0</td>\n",
              "    </tr>\n",
              "    <tr>\n",
              "      <th>1</th>\n",
              "      <td>Cinema &amp; Broadcast</td>\n",
              "      <td>5.317777</td>\n",
              "      <td>14.0</td>\n",
              "      <td>3.9</td>\n",
              "      <td>missingTitle</td>\n",
              "      <td>Biographies</td>\n",
              "      <td>Diaries &amp; True Accounts</td>\n",
              "      <td>Paperback</td>\n",
              "      <td>7 Nov 2012</td>\n",
              "      <td>2012.0</td>\n",
              "      <td>11.0</td>\n",
              "      <td>7.0</td>\n",
              "      <td>83.542350</td>\n",
              "      <td>26.0</td>\n",
              "      <td>1.0</td>\n",
              "      <td>2255.0</td>\n",
              "      <td>61153.0</td>\n",
              "      <td>4.347678</td>\n",
              "      <td>4.4</td>\n",
              "      <td>1.5</td>\n",
              "      <td>5.0</td>\n",
              "      <td>3182.5</td>\n",
              "      <td>83.542350</td>\n",
              "      <td>26.0</td>\n",
              "      <td>1.0</td>\n",
              "      <td>2255.0</td>\n",
              "      <td>61153.0</td>\n",
              "      <td>4.347678</td>\n",
              "      <td>4.4</td>\n",
              "      <td>1.5</td>\n",
              "      <td>5.0</td>\n",
              "      <td>3182.5</td>\n",
              "      <td>14.00</td>\n",
              "      <td>14.0</td>\n",
              "      <td>14.0</td>\n",
              "      <td>14.0</td>\n",
              "      <td>28.0</td>\n",
              "      <td>3.900</td>\n",
              "      <td>3.90</td>\n",
              "      <td>3.9</td>\n",
              "      <td>...</td>\n",
              "      <td>0.0</td>\n",
              "      <td>0.0</td>\n",
              "      <td>0.0</td>\n",
              "      <td>0.0</td>\n",
              "      <td>0.0</td>\n",
              "      <td>0.0</td>\n",
              "      <td>0.0</td>\n",
              "      <td>0.0</td>\n",
              "      <td>0.0</td>\n",
              "      <td>0.0</td>\n",
              "      <td>0.0</td>\n",
              "      <td>0.0</td>\n",
              "      <td>0.0</td>\n",
              "      <td>0.0</td>\n",
              "      <td>0.0</td>\n",
              "      <td>0.0</td>\n",
              "      <td>0.0</td>\n",
              "      <td>0.0</td>\n",
              "      <td>0.0</td>\n",
              "      <td>0.0</td>\n",
              "      <td>0.0</td>\n",
              "      <td>0.0</td>\n",
              "      <td>0.0</td>\n",
              "      <td>0.0</td>\n",
              "      <td>0.0</td>\n",
              "      <td>0.0</td>\n",
              "      <td>0.0</td>\n",
              "      <td>0.0</td>\n",
              "      <td>0.0</td>\n",
              "      <td>0.0</td>\n",
              "      <td>0.0</td>\n",
              "      <td>0.0</td>\n",
              "      <td>0.0</td>\n",
              "      <td>0.0</td>\n",
              "      <td>0.0</td>\n",
              "      <td>0.0</td>\n",
              "      <td>0.0</td>\n",
              "      <td>0.0</td>\n",
              "      <td>0.0</td>\n",
              "      <td>0.0</td>\n",
              "    </tr>\n",
              "  </tbody>\n",
              "</table>\n",
              "<p>2 rows × 15067 columns</p>\n",
              "</div>"
            ],
            "text/plain": [
              "                 Genre     Price  Reviews  Ratings  ...  zoe zombie zone  zoo\n",
              "0  Action & Adventure   5.398163      8.0      4.0  ...  0.0    0.0  0.0  0.0\n",
              "1  Cinema & Broadcast   5.317777     14.0      3.9  ...  0.0    0.0  0.0  0.0\n",
              "\n",
              "[2 rows x 15067 columns]"
            ]
          },
          "metadata": {
            "tags": []
          },
          "execution_count": 40
        }
      ]
    },
    {
      "cell_type": "code",
      "metadata": {
        "id": "k4dOdVtSfTXB",
        "colab_type": "code",
        "colab": {}
      },
      "source": [
        "X = train_df.drop(labels=['Price'], axis=1)\n",
        "y = train_df['Price'].values\n",
        "\n",
        "from sklearn.model_selection import train_test_split\n",
        "X_train, X_cv, y_train, y_cv = train_test_split(X, y, test_size=0.25, random_state=1)\n"
      ],
      "execution_count": 0,
      "outputs": []
    },
    {
      "cell_type": "code",
      "metadata": {
        "id": "P3ofrcxofViy",
        "colab_type": "code",
        "colab": {
          "base_uri": "https://localhost:8080/",
          "height": 34
        },
        "outputId": "e5bbbde9-9987-4b4a-84f2-899529982204"
      },
      "source": [
        "X_train.shape, y_train.shape, X_cv.shape, y_cv.shape"
      ],
      "execution_count": 42,
      "outputs": [
        {
          "output_type": "execute_result",
          "data": {
            "text/plain": [
              "((4675, 15066), (4675,), (1559, 15066), (1559,))"
            ]
          },
          "metadata": {
            "tags": []
          },
          "execution_count": 42
        }
      ]
    },
    {
      "cell_type": "code",
      "metadata": {
        "id": "38Keb4YdfYmM",
        "colab_type": "code",
        "colab": {}
      },
      "source": [
        "from math import sqrt \n",
        "from sklearn.metrics import mean_squared_log_error\n"
      ],
      "execution_count": 0,
      "outputs": []
    },
    {
      "cell_type": "code",
      "metadata": {
        "id": "Sf7kfBbXfacj",
        "colab_type": "code",
        "colab": {
          "base_uri": "https://localhost:8080/",
          "height": 374
        },
        "outputId": "c7493fa5-a6f7-427e-bbd1-f20acfda9c19"
      },
      "source": [
        "import lightgbm as lgb\n",
        "train_data = lgb.Dataset(X_train, label=y_train)\n",
        "test_data = lgb.Dataset(X_cv, label=y_cv)\n",
        "\n",
        "param = {'objective': 'regression',\n",
        "         'boosting': 'gbdt',  \n",
        "         'metric': 'l2_root',\n",
        "         'learning_rate': 0.01, \n",
        "         'num_iterations': 3500,\n",
        "         'num_leaves': 80,\n",
        "         'max_depth': -1,\n",
        "         'min_data_in_leaf': 11,\n",
        "         'bagging_fraction': 0.80,\n",
        "         'bagging_freq': 1,\n",
        "         'bagging_seed': 3,\n",
        "         'feature_fraction': 0.80,\n",
        "         'feature_fraction_seed': 2,\n",
        "         'early_stopping_round': 200,\n",
        "         'max_bin': 250\n",
        "         }\n",
        "\n",
        "lgbm = lgb.train(params=param, verbose_eval=100, train_set=train_data, valid_sets=[test_data])\n",
        "\n",
        "y_pred_lgbm = lgbm.predict(X_cv)\n",
        "print('RMSLE:', sqrt(mean_squared_log_error(np.expm1(y_cv), np.expm1(y_pred_lgbm))))"
      ],
      "execution_count": 44,
      "outputs": [
        {
          "output_type": "stream",
          "text": [
            "Training until validation scores don't improve for 200 rounds.\n",
            "[100]\tvalid_0's rmse: 0.592238\n",
            "[200]\tvalid_0's rmse: 0.540414\n",
            "[300]\tvalid_0's rmse: 0.516984\n",
            "[400]\tvalid_0's rmse: 0.506353\n",
            "[500]\tvalid_0's rmse: 0.500718\n",
            "[600]\tvalid_0's rmse: 0.497831\n",
            "[700]\tvalid_0's rmse: 0.496031\n",
            "[800]\tvalid_0's rmse: 0.494444\n",
            "[900]\tvalid_0's rmse: 0.493403\n",
            "[1000]\tvalid_0's rmse: 0.492984\n",
            "[1100]\tvalid_0's rmse: 0.49288\n",
            "[1200]\tvalid_0's rmse: 0.492858\n",
            "[1300]\tvalid_0's rmse: 0.492732\n",
            "[1400]\tvalid_0's rmse: 0.492532\n",
            "[1500]\tvalid_0's rmse: 0.49249\n",
            "[1600]\tvalid_0's rmse: 0.492491\n",
            "[1700]\tvalid_0's rmse: 0.492498\n",
            "Early stopping, best iteration is:\n",
            "[1539]\tvalid_0's rmse: 0.492446\n",
            "RMSLE: 0.49244598432320114\n"
          ],
          "name": "stdout"
        }
      ]
    },
    {
      "cell_type": "code",
      "metadata": {
        "id": "a_xoRhzVfc-V",
        "colab_type": "code",
        "colab": {
          "base_uri": "https://localhost:8080/",
          "height": 729
        },
        "outputId": "e52d1612-d6f7-45c1-fa4d-021a84d4fcf1"
      },
      "source": [
        "feature_imp = pd.DataFrame(sorted(zip(lgbm.feature_importance(), X.columns), reverse=True)[:50], \n",
        "                           columns=['Value','Feature'])\n",
        "plt.figure(figsize=(12, 10))\n",
        "sns.barplot(x=\"Value\", y=\"Feature\", data=feature_imp.sort_values(by=\"Value\", ascending=False))\n",
        "plt.title('LightGBM Features')\n",
        "plt.tight_layout()\n",
        "plt.show()"
      ],
      "execution_count": 45,
      "outputs": [
        {
          "output_type": "display_data",
          "data": {
            "image/png": "[encoded data removed]",
            "text/plain": [
              "<Figure size 864x720 with 1 Axes>"
            ]
          },
          "metadata": {
            "tags": []
          }
        }
      ]
    },
    {
      "cell_type": "code",
      "metadata": {
        "id": "ZLP4SPChffqJ",
        "colab_type": "code",
        "colab": {}
      },
      "source": [
        "Xtest = test_df"
      ],
      "execution_count": 0,
      "outputs": []
    },
    {
      "cell_type": "code",
      "metadata": {
        "id": "qQG5qhJhfibV",
        "colab_type": "code",
        "colab": {
          "base_uri": "https://localhost:8080/",
          "height": 477
        },
        "outputId": "6c107a5b-f546-4c7e-9f1a-dd920973ee77"
      },
      "source": [
        "from sklearn.model_selection import KFold\n",
        "from lightgbm import LGBMRegressor\n",
        "\n",
        "errlgb = []\n",
        "y_pred_totlgb = []\n",
        "\n",
        "fold = KFold(n_splits=15, shuffle=True, random_state=42)\n",
        "\n",
        "for train_index, test_index in fold.split(X):\n",
        "    X_train, X_test = X.loc[train_index], X.loc[test_index]\n",
        "    y_train, y_test = y[train_index], y[test_index]\n",
        "\n",
        "    lgbm = LGBMRegressor(**param)\n",
        "    lgbm.fit(X_train, y_train, eval_set=[(X_test, y_test)], verbose=0, early_stopping_rounds=200)\n",
        "\n",
        "    y_pred_lgbm = lgbm.predict(X_test)\n",
        "    print(\"RMSLE LGBM: \", sqrt(mean_squared_log_error(np.exp(y_test), np.exp(y_pred_lgbm))))\n",
        "\n",
        "    errlgb.append(sqrt(mean_squared_log_error(np.exp(y_test), np.exp(y_pred_lgbm))))\n",
        "    p = lgbm.predict(Xtest)\n",
        "    y_pred_totlgb.append(p)"
      ],
      "execution_count": 47,
      "outputs": [
        {
          "output_type": "stream",
          "text": [
            "RMSLE LGBM:  0.5062347051188648\n",
            "RMSLE LGBM:  0.5203457552166906\n",
            "RMSLE LGBM:  0.4691327161007397\n",
            "RMSLE LGBM:  0.4874301114023079\n",
            "RMSLE LGBM:  0.4688820114918678\n",
            "RMSLE LGBM:  0.5206904180794591\n"
          ],
          "name": "stdout"
        },
        {
          "output_type": "error",
          "ename": "KeyboardInterrupt",
          "evalue": "ignored",
          "traceback": [
            "\u001b[0;31m---------------------------------------------------------------------------\u001b[0m",
            "\u001b[0;31mKeyboardInterrupt\u001b[0m                         Traceback (most recent call last)",
            "\u001b[0;32m<ipython-input-47-b854a7a3b7c1>\u001b[0m in \u001b[0;36m<module>\u001b[0;34m()\u001b[0m\n\u001b[1;32m     12\u001b[0m \u001b[0;34m\u001b[0m\u001b[0m\n\u001b[1;32m     13\u001b[0m     \u001b[0mlgbm\u001b[0m \u001b[0;34m=\u001b[0m \u001b[0mLGBMRegressor\u001b[0m\u001b[0;34m(\u001b[0m\u001b[0;34m**\u001b[0m\u001b[0mparam\u001b[0m\u001b[0;34m)\u001b[0m\u001b[0;34m\u001b[0m\u001b[0;34m\u001b[0m\u001b[0m\n\u001b[0;32m---> 14\u001b[0;31m     \u001b[0mlgbm\u001b[0m\u001b[0;34m.\u001b[0m\u001b[0mfit\u001b[0m\u001b[0;34m(\u001b[0m\u001b[0mX_train\u001b[0m\u001b[0;34m,\u001b[0m \u001b[0my_train\u001b[0m\u001b[0;34m,\u001b[0m \u001b[0meval_set\u001b[0m\u001b[0;34m=\u001b[0m\u001b[0;34m[\u001b[0m\u001b[0;34m(\u001b[0m\u001b[0mX_test\u001b[0m\u001b[0;34m,\u001b[0m \u001b[0my_test\u001b[0m\u001b[0;34m)\u001b[0m\u001b[0;34m]\u001b[0m\u001b[0;34m,\u001b[0m \u001b[0mverbose\u001b[0m\u001b[0;34m=\u001b[0m\u001b[0;36m0\u001b[0m\u001b[0;34m,\u001b[0m \u001b[0mearly_stopping_rounds\u001b[0m\u001b[0;34m=\u001b[0m\u001b[0;36m200\u001b[0m\u001b[0;34m)\u001b[0m\u001b[0;34m\u001b[0m\u001b[0;34m\u001b[0m\u001b[0m\n\u001b[0m\u001b[1;32m     15\u001b[0m \u001b[0;34m\u001b[0m\u001b[0m\n\u001b[1;32m     16\u001b[0m     \u001b[0my_pred_lgbm\u001b[0m \u001b[0;34m=\u001b[0m \u001b[0mlgbm\u001b[0m\u001b[0;34m.\u001b[0m\u001b[0mpredict\u001b[0m\u001b[0;34m(\u001b[0m\u001b[0mX_test\u001b[0m\u001b[0;34m)\u001b[0m\u001b[0;34m\u001b[0m\u001b[0;34m\u001b[0m\u001b[0m\n",
            "\u001b[0;32m/usr/local/lib/python3.6/dist-packages/lightgbm/sklearn.py\u001b[0m in \u001b[0;36mfit\u001b[0;34m(self, X, y, sample_weight, init_score, eval_set, eval_names, eval_sample_weight, eval_init_score, eval_metric, early_stopping_rounds, verbose, feature_name, categorical_feature, callbacks)\u001b[0m\n\u001b[1;32m    683\u001b[0m                                        \u001b[0mverbose\u001b[0m\u001b[0;34m=\u001b[0m\u001b[0mverbose\u001b[0m\u001b[0;34m,\u001b[0m \u001b[0mfeature_name\u001b[0m\u001b[0;34m=\u001b[0m\u001b[0mfeature_name\u001b[0m\u001b[0;34m,\u001b[0m\u001b[0;34m\u001b[0m\u001b[0;34m\u001b[0m\u001b[0m\n\u001b[1;32m    684\u001b[0m                                        \u001b[0mcategorical_feature\u001b[0m\u001b[0;34m=\u001b[0m\u001b[0mcategorical_feature\u001b[0m\u001b[0;34m,\u001b[0m\u001b[0;34m\u001b[0m\u001b[0;34m\u001b[0m\u001b[0m\n\u001b[0;32m--> 685\u001b[0;31m                                        callbacks=callbacks)\n\u001b[0m\u001b[1;32m    686\u001b[0m         \u001b[0;32mreturn\u001b[0m \u001b[0mself\u001b[0m\u001b[0;34m\u001b[0m\u001b[0;34m\u001b[0m\u001b[0m\n\u001b[1;32m    687\u001b[0m \u001b[0;34m\u001b[0m\u001b[0m\n",
            "\u001b[0;32m/usr/local/lib/python3.6/dist-packages/lightgbm/sklearn.py\u001b[0m in \u001b[0;36mfit\u001b[0;34m(self, X, y, sample_weight, init_score, group, eval_set, eval_names, eval_sample_weight, eval_class_weight, eval_init_score, eval_group, eval_metric, early_stopping_rounds, verbose, feature_name, categorical_feature, callbacks)\u001b[0m\n\u001b[1;32m    542\u001b[0m                               \u001b[0mverbose_eval\u001b[0m\u001b[0;34m=\u001b[0m\u001b[0mverbose\u001b[0m\u001b[0;34m,\u001b[0m \u001b[0mfeature_name\u001b[0m\u001b[0;34m=\u001b[0m\u001b[0mfeature_name\u001b[0m\u001b[0;34m,\u001b[0m\u001b[0;34m\u001b[0m\u001b[0;34m\u001b[0m\u001b[0m\n\u001b[1;32m    543\u001b[0m                               \u001b[0mcategorical_feature\u001b[0m\u001b[0;34m=\u001b[0m\u001b[0mcategorical_feature\u001b[0m\u001b[0;34m,\u001b[0m\u001b[0;34m\u001b[0m\u001b[0;34m\u001b[0m\u001b[0m\n\u001b[0;32m--> 544\u001b[0;31m                               callbacks=callbacks)\n\u001b[0m\u001b[1;32m    545\u001b[0m \u001b[0;34m\u001b[0m\u001b[0m\n\u001b[1;32m    546\u001b[0m         \u001b[0;32mif\u001b[0m \u001b[0mevals_result\u001b[0m\u001b[0;34m:\u001b[0m\u001b[0;34m\u001b[0m\u001b[0;34m\u001b[0m\u001b[0m\n",
            "\u001b[0;32m/usr/local/lib/python3.6/dist-packages/lightgbm/engine.py\u001b[0m in \u001b[0;36mtrain\u001b[0;34m(params, train_set, num_boost_round, valid_sets, valid_names, fobj, feval, init_model, feature_name, categorical_feature, early_stopping_rounds, evals_result, verbose_eval, learning_rates, keep_training_booster, callbacks)\u001b[0m\n\u001b[1;32m    216\u001b[0m                                     evaluation_result_list=None))\n\u001b[1;32m    217\u001b[0m \u001b[0;34m\u001b[0m\u001b[0m\n\u001b[0;32m--> 218\u001b[0;31m         \u001b[0mbooster\u001b[0m\u001b[0;34m.\u001b[0m\u001b[0mupdate\u001b[0m\u001b[0;34m(\u001b[0m\u001b[0mfobj\u001b[0m\u001b[0;34m=\u001b[0m\u001b[0mfobj\u001b[0m\u001b[0;34m)\u001b[0m\u001b[0;34m\u001b[0m\u001b[0;34m\u001b[0m\u001b[0m\n\u001b[0m\u001b[1;32m    219\u001b[0m \u001b[0;34m\u001b[0m\u001b[0m\n\u001b[1;32m    220\u001b[0m         \u001b[0mevaluation_result_list\u001b[0m \u001b[0;34m=\u001b[0m \u001b[0;34m[\u001b[0m\u001b[0;34m]\u001b[0m\u001b[0;34m\u001b[0m\u001b[0;34m\u001b[0m\u001b[0m\n",
            "\u001b[0;32m/usr/local/lib/python3.6/dist-packages/lightgbm/basic.py\u001b[0m in \u001b[0;36mupdate\u001b[0;34m(self, train_set, fobj)\u001b[0m\n\u001b[1;32m   1800\u001b[0m             _safe_call(_LIB.LGBM_BoosterUpdateOneIter(\n\u001b[1;32m   1801\u001b[0m                 \u001b[0mself\u001b[0m\u001b[0;34m.\u001b[0m\u001b[0mhandle\u001b[0m\u001b[0;34m,\u001b[0m\u001b[0;34m\u001b[0m\u001b[0;34m\u001b[0m\u001b[0m\n\u001b[0;32m-> 1802\u001b[0;31m                 ctypes.byref(is_finished)))\n\u001b[0m\u001b[1;32m   1803\u001b[0m             \u001b[0mself\u001b[0m\u001b[0;34m.\u001b[0m\u001b[0m__is_predicted_cur_iter\u001b[0m \u001b[0;34m=\u001b[0m \u001b[0;34m[\u001b[0m\u001b[0;32mFalse\u001b[0m \u001b[0;32mfor\u001b[0m \u001b[0m_\u001b[0m \u001b[0;32min\u001b[0m \u001b[0mrange_\u001b[0m\u001b[0;34m(\u001b[0m\u001b[0mself\u001b[0m\u001b[0;34m.\u001b[0m\u001b[0m__num_dataset\u001b[0m\u001b[0;34m)\u001b[0m\u001b[0;34m]\u001b[0m\u001b[0;34m\u001b[0m\u001b[0;34m\u001b[0m\u001b[0m\n\u001b[1;32m   1804\u001b[0m             \u001b[0;32mreturn\u001b[0m \u001b[0mis_finished\u001b[0m\u001b[0;34m.\u001b[0m\u001b[0mvalue\u001b[0m \u001b[0;34m==\u001b[0m \u001b[0;36m1\u001b[0m\u001b[0;34m\u001b[0m\u001b[0;34m\u001b[0m\u001b[0m\n",
            "\u001b[0;31mKeyboardInterrupt\u001b[0m: "
          ]
        }
      ]
    },
    {
      "cell_type": "code",
      "metadata": {
        "id": "p935unrzflEc",
        "colab_type": "code",
        "colab": {}
      },
      "source": [
        "np.mean(errlgb,0)"
      ],
      "execution_count": 0,
      "outputs": []
    },
    {
      "cell_type": "code",
      "metadata": {
        "id": "tCAp9jr8fn_1",
        "colab_type": "code",
        "colab": {}
      },
      "source": [
        "lgbm_final = np.expm1(np.mean(y_pred_totlgb,0))\n",
        "lgbm_final"
      ],
      "execution_count": 0,
      "outputs": []
    },
    {
      "cell_type": "code",
      "metadata": {
        "id": "QCYlAC9gfp1h",
        "colab_type": "code",
        "colab": {}
      },
      "source": [
        "df_sub = pd.DataFrame(data=lgbm_final, columns=['Price'])\n",
        "writer = pd.ExcelWriter('Output.xlsx', engine='xlsxwriter')\n",
        "df_sub.to_excel(writer,sheet_name='Sheet1', index=False)\n",
        "writer.save()"
      ],
      "execution_count": 0,
      "outputs": []
    },
    {
      "cell_type": "code",
      "metadata": {
        "id": "FxDnRsZtfrtT",
        "colab_type": "code",
        "colab": {}
      },
      "source": [
        ""
      ],
      "execution_count": 0,
      "outputs": []
    }
  ]
}